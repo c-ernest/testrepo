{
    "cells": [
        {
            "cell_type": "code",
            "execution_count": 1,
            "id": "299acc9d",
            "metadata": {},
            "outputs": [
                {
                    "data": {
                        "text/plain": "['.idea',\n '.ipynb_checkpoints',\n '2022-02-09-12-47.txt',\n '2022-02-09-12-48.txt',\n 'Automated_Emails',\n 'Calories_App',\n 'Cinema-Ticket-Booking',\n 'dictionary',\n 'Error_Log.txt',\n 'example.py',\n 'Flatmates_Bill',\n 'Flatmates_Bill_Web_App',\n 'geocoding.ipynb',\n 'git_learning',\n 'instant_dictionary_api',\n 'instant_dictionary_webapp',\n 'Math_Painting',\n 'myfunction.py',\n 'myprogram.py',\n 'PERSONAL_PORTFOLIO',\n 'Photo_Searcher',\n 'Pirple',\n 'selenium_project',\n 'supermarkets.json',\n 'T&T-Database',\n 'weather_app_django-master',\n 'weather_by_hour',\n 'Webcam_Photo_Sharer',\n 'with_git']"
                    },
                    "execution_count": 1,
                    "metadata": {},
                    "output_type": "execute_result"
                }
            ],
            "source": "import os\nos.listdir()"
        },
        {
            "cell_type": "code",
            "execution_count": 2,
            "id": "6d350fb3",
            "metadata": {},
            "outputs": [],
            "source": "import pandas\nimport geopy"
        },
        {
            "cell_type": "code",
            "execution_count": 9,
            "id": "19b65a9c",
            "metadata": {},
            "outputs": [],
            "source": "from geopy.geocoders import Nominatim"
        },
        {
            "cell_type": "code",
            "execution_count": 11,
            "id": "828a5461",
            "metadata": {},
            "outputs": [
                {
                    "name": "stdout",
                    "output_type": "stream",
                    "text": "Flatiron Building, 175, 5th Avenue, Flatiron District, Manhattan Community Board 5, Manhattan, New York, 10010, United States\n"
                }
            ],
            "source": "geolocator = Nominatim(user_agent=\"ernestchukwunta@yahoo.com\")\nlocation = geolocator.geocode(\"175 5th Avenue NYC\")\nprint(location.address)"
        },
        {
            "cell_type": "markdown",
            "id": "b1938ce2",
            "metadata": {},
            "source": ">>> from geopy.geocoders import Nominatim\n        >>> geolocator = Nominatim(user_agent=\"specify_your_app_name_here\")\n        >>> location = geolocator.geocode(\"175 5th Avenue NYC\")\n        >>> print(location.address)\n        Flatiron Building, 175, 5th Avenue, Flatiron, New York, NYC, New York, ...\n        >>> print((location.latitude, location.longitude))\n        (40.7410861, -73.9896297241625)\n        >>> print(location.raw)\n        {'place_id': '9167009604', 'type': 'attraction', ...}"
        },
        {
            "cell_type": "markdown",
            "id": "40edfd54",
            "metadata": {},
            "source": "help(geopy.geocoders)"
        },
        {
            "cell_type": "code",
            "execution_count": 12,
            "id": "02831aff",
            "metadata": {},
            "outputs": [
                {
                    "data": {
                        "text/html": "<div>\n<style scoped>\n    .dataframe tbody tr th:only-of-type {\n        vertical-align: middle;\n    }\n\n    .dataframe tbody tr th {\n        vertical-align: top;\n    }\n\n    .dataframe thead th {\n        text-align: right;\n    }\n</style>\n<table border=\"1\" class=\"dataframe\">\n  <thead>\n    <tr style=\"text-align: right;\">\n      <th></th>\n      <th>ID</th>\n      <th>Address</th>\n      <th>City</th>\n      <th>State</th>\n      <th>Country</th>\n      <th>Name</th>\n      <th>Employees</th>\n    </tr>\n  </thead>\n  <tbody>\n    <tr>\n      <th>0</th>\n      <td>1</td>\n      <td>3666 21st St</td>\n      <td>San Francisco</td>\n      <td>CA 94114</td>\n      <td>USA</td>\n      <td>Madeira</td>\n      <td>8</td>\n    </tr>\n    <tr>\n      <th>1</th>\n      <td>2</td>\n      <td>735 Dolores St</td>\n      <td>San Francisco</td>\n      <td>CA 94119</td>\n      <td>USA</td>\n      <td>Bready Shop</td>\n      <td>15</td>\n    </tr>\n    <tr>\n      <th>2</th>\n      <td>3</td>\n      <td>332 Hill St</td>\n      <td>San Francisco</td>\n      <td>California 94114</td>\n      <td>USA</td>\n      <td>Super River</td>\n      <td>25</td>\n    </tr>\n    <tr>\n      <th>3</th>\n      <td>4</td>\n      <td>3995 23rd St</td>\n      <td>San Francisco</td>\n      <td>CA 94114</td>\n      <td>USA</td>\n      <td>Ben's Shop</td>\n      <td>10</td>\n    </tr>\n    <tr>\n      <th>4</th>\n      <td>5</td>\n      <td>1056 Sanchez St</td>\n      <td>San Francisco</td>\n      <td>California</td>\n      <td>USA</td>\n      <td>Sanchez</td>\n      <td>12</td>\n    </tr>\n    <tr>\n      <th>5</th>\n      <td>6</td>\n      <td>551 Alvarado St</td>\n      <td>San Francisco</td>\n      <td>CA 94114</td>\n      <td>USA</td>\n      <td>Richvalley</td>\n      <td>20</td>\n    </tr>\n  </tbody>\n</table>\n</div>",
                        "text/plain": "   ID          Address           City             State Country         Name  \\\n0   1     3666 21st St  San Francisco          CA 94114     USA      Madeira   \n1   2   735 Dolores St  San Francisco          CA 94119     USA  Bready Shop   \n2   3      332 Hill St  San Francisco  California 94114     USA  Super River   \n3   4     3995 23rd St  San Francisco          CA 94114     USA   Ben's Shop   \n4   5  1056 Sanchez St  San Francisco        California     USA      Sanchez   \n5   6  551 Alvarado St  San Francisco          CA 94114     USA   Richvalley   \n\n   Employees  \n0          8  \n1         15  \n2         25  \n3         10  \n4         12  \n5         20  "
                    },
                    "execution_count": 12,
                    "metadata": {},
                    "output_type": "execute_result"
                }
            ],
            "source": "df=pandas.read_json(\"supermarkets.json\")\ndf"
        },
        {
            "cell_type": "code",
            "execution_count": 13,
            "id": "62da4dea",
            "metadata": {},
            "outputs": [
                {
                    "data": {
                        "text/html": "<div>\n<style scoped>\n    .dataframe tbody tr th:only-of-type {\n        vertical-align: middle;\n    }\n\n    .dataframe tbody tr th {\n        vertical-align: top;\n    }\n\n    .dataframe thead th {\n        text-align: right;\n    }\n</style>\n<table border=\"1\" class=\"dataframe\">\n  <thead>\n    <tr style=\"text-align: right;\">\n      <th></th>\n      <th>ID</th>\n      <th>Address</th>\n      <th>City</th>\n      <th>State</th>\n      <th>Country</th>\n      <th>Name</th>\n      <th>Employees</th>\n    </tr>\n  </thead>\n  <tbody>\n    <tr>\n      <th>0</th>\n      <td>1</td>\n      <td>3666 21st St, San Francisco, CA 94114, USA</td>\n      <td>San Francisco</td>\n      <td>CA 94114</td>\n      <td>USA</td>\n      <td>Madeira</td>\n      <td>8</td>\n    </tr>\n    <tr>\n      <th>1</th>\n      <td>2</td>\n      <td>735 Dolores St, San Francisco, CA 94119, USA</td>\n      <td>San Francisco</td>\n      <td>CA 94119</td>\n      <td>USA</td>\n      <td>Bready Shop</td>\n      <td>15</td>\n    </tr>\n    <tr>\n      <th>2</th>\n      <td>3</td>\n      <td>332 Hill St, San Francisco, California 94114, USA</td>\n      <td>San Francisco</td>\n      <td>California 94114</td>\n      <td>USA</td>\n      <td>Super River</td>\n      <td>25</td>\n    </tr>\n    <tr>\n      <th>3</th>\n      <td>4</td>\n      <td>3995 23rd St, San Francisco, CA 94114, USA</td>\n      <td>San Francisco</td>\n      <td>CA 94114</td>\n      <td>USA</td>\n      <td>Ben's Shop</td>\n      <td>10</td>\n    </tr>\n    <tr>\n      <th>4</th>\n      <td>5</td>\n      <td>1056 Sanchez St, San Francisco, California, USA</td>\n      <td>San Francisco</td>\n      <td>California</td>\n      <td>USA</td>\n      <td>Sanchez</td>\n      <td>12</td>\n    </tr>\n    <tr>\n      <th>5</th>\n      <td>6</td>\n      <td>551 Alvarado St, San Francisco, CA 94114, USA</td>\n      <td>San Francisco</td>\n      <td>CA 94114</td>\n      <td>USA</td>\n      <td>Richvalley</td>\n      <td>20</td>\n    </tr>\n  </tbody>\n</table>\n</div>",
                        "text/plain": "   ID                                            Address           City  \\\n0   1         3666 21st St, San Francisco, CA 94114, USA  San Francisco   \n1   2       735 Dolores St, San Francisco, CA 94119, USA  San Francisco   \n2   3  332 Hill St, San Francisco, California 94114, USA  San Francisco   \n3   4         3995 23rd St, San Francisco, CA 94114, USA  San Francisco   \n4   5    1056 Sanchez St, San Francisco, California, USA  San Francisco   \n5   6      551 Alvarado St, San Francisco, CA 94114, USA  San Francisco   \n\n              State Country         Name  Employees  \n0          CA 94114     USA      Madeira          8  \n1          CA 94119     USA  Bready Shop         15  \n2  California 94114     USA  Super River         25  \n3          CA 94114     USA   Ben's Shop         10  \n4        California     USA      Sanchez         12  \n5          CA 94114     USA   Richvalley         20  "
                    },
                    "execution_count": 13,
                    "metadata": {},
                    "output_type": "execute_result"
                }
            ],
            "source": "df[\"Address\"] = df[\"Address\"]+\", \"+df[\"City\"]+\", \"+df[\"State\"]+\", \"+df[\"Country\"]\ndf"
        },
        {
            "cell_type": "code",
            "execution_count": 14,
            "id": "9ceec25d",
            "metadata": {},
            "outputs": [],
            "source": "df[\"Coordinates\"]=df[\"Address\"].apply(geolocator.geocode)"
        },
        {
            "cell_type": "code",
            "execution_count": 15,
            "id": "dc4d9c9a",
            "metadata": {},
            "outputs": [
                {
                    "data": {
                        "text/html": "<div>\n<style scoped>\n    .dataframe tbody tr th:only-of-type {\n        vertical-align: middle;\n    }\n\n    .dataframe tbody tr th {\n        vertical-align: top;\n    }\n\n    .dataframe thead th {\n        text-align: right;\n    }\n</style>\n<table border=\"1\" class=\"dataframe\">\n  <thead>\n    <tr style=\"text-align: right;\">\n      <th></th>\n      <th>ID</th>\n      <th>Address</th>\n      <th>City</th>\n      <th>State</th>\n      <th>Country</th>\n      <th>Name</th>\n      <th>Employees</th>\n      <th>Coordinates</th>\n    </tr>\n  </thead>\n  <tbody>\n    <tr>\n      <th>0</th>\n      <td>1</td>\n      <td>3666 21st St, San Francisco, CA 94114, USA</td>\n      <td>San Francisco</td>\n      <td>CA 94114</td>\n      <td>USA</td>\n      <td>Madeira</td>\n      <td>8</td>\n      <td>(3666, 21st Street, Noe Valley, San Francisco,...</td>\n    </tr>\n    <tr>\n      <th>1</th>\n      <td>2</td>\n      <td>735 Dolores St, San Francisco, CA 94119, USA</td>\n      <td>San Francisco</td>\n      <td>CA 94119</td>\n      <td>USA</td>\n      <td>Bready Shop</td>\n      <td>15</td>\n      <td>(735, Dolores Street, Liberty Street Historic ...</td>\n    </tr>\n    <tr>\n      <th>2</th>\n      <td>3</td>\n      <td>332 Hill St, San Francisco, California 94114, USA</td>\n      <td>San Francisco</td>\n      <td>California 94114</td>\n      <td>USA</td>\n      <td>Super River</td>\n      <td>25</td>\n      <td>(332, Hill Street, Noe Valley, San Francisco, ...</td>\n    </tr>\n    <tr>\n      <th>3</th>\n      <td>4</td>\n      <td>3995 23rd St, San Francisco, CA 94114, USA</td>\n      <td>San Francisco</td>\n      <td>CA 94114</td>\n      <td>USA</td>\n      <td>Ben's Shop</td>\n      <td>10</td>\n      <td>(3995, 23rd Street, Noe Valley, San Francisco,...</td>\n    </tr>\n    <tr>\n      <th>4</th>\n      <td>5</td>\n      <td>1056 Sanchez St, San Francisco, California, USA</td>\n      <td>San Francisco</td>\n      <td>California</td>\n      <td>USA</td>\n      <td>Sanchez</td>\n      <td>12</td>\n      <td>(1056, Sanchez Street, Noe Valley, San Francis...</td>\n    </tr>\n    <tr>\n      <th>5</th>\n      <td>6</td>\n      <td>551 Alvarado St, San Francisco, CA 94114, USA</td>\n      <td>San Francisco</td>\n      <td>CA 94114</td>\n      <td>USA</td>\n      <td>Richvalley</td>\n      <td>20</td>\n      <td>(551, Alvarado Street, Noe Valley, San Francis...</td>\n    </tr>\n  </tbody>\n</table>\n</div>",
                        "text/plain": "   ID                                            Address           City  \\\n0   1         3666 21st St, San Francisco, CA 94114, USA  San Francisco   \n1   2       735 Dolores St, San Francisco, CA 94119, USA  San Francisco   \n2   3  332 Hill St, San Francisco, California 94114, USA  San Francisco   \n3   4         3995 23rd St, San Francisco, CA 94114, USA  San Francisco   \n4   5    1056 Sanchez St, San Francisco, California, USA  San Francisco   \n5   6      551 Alvarado St, San Francisco, CA 94114, USA  San Francisco   \n\n              State Country         Name  Employees  \\\n0          CA 94114     USA      Madeira          8   \n1          CA 94119     USA  Bready Shop         15   \n2  California 94114     USA  Super River         25   \n3          CA 94114     USA   Ben's Shop         10   \n4        California     USA      Sanchez         12   \n5          CA 94114     USA   Richvalley         20   \n\n                                         Coordinates  \n0  (3666, 21st Street, Noe Valley, San Francisco,...  \n1  (735, Dolores Street, Liberty Street Historic ...  \n2  (332, Hill Street, Noe Valley, San Francisco, ...  \n3  (3995, 23rd Street, Noe Valley, San Francisco,...  \n4  (1056, Sanchez Street, Noe Valley, San Francis...  \n5  (551, Alvarado Street, Noe Valley, San Francis...  "
                    },
                    "execution_count": 15,
                    "metadata": {},
                    "output_type": "execute_result"
                }
            ],
            "source": "df"
        },
        {
            "cell_type": "code",
            "execution_count": 16,
            "id": "d84b2728",
            "metadata": {},
            "outputs": [
                {
                    "data": {
                        "text/plain": "0    (3666, 21st Street, Noe Valley, San Francisco,...\n1    (735, Dolores Street, Liberty Street Historic ...\n2    (332, Hill Street, Noe Valley, San Francisco, ...\n3    (3995, 23rd Street, Noe Valley, San Francisco,...\n4    (1056, Sanchez Street, Noe Valley, San Francis...\n5    (551, Alvarado Street, Noe Valley, San Francis...\nName: Coordinates, dtype: object"
                    },
                    "execution_count": 16,
                    "metadata": {},
                    "output_type": "execute_result"
                }
            ],
            "source": "df[\"Coordinates\"]"
        },
        {
            "cell_type": "code",
            "execution_count": 17,
            "id": "cc9d520d",
            "metadata": {},
            "outputs": [
                {
                    "data": {
                        "text/plain": "Location(3666, 21st Street, Noe Valley, San Francisco, California, 94114, United States, (37.75648887755102, -122.42934334693878, 0.0))"
                    },
                    "execution_count": 17,
                    "metadata": {},
                    "output_type": "execute_result"
                }
            ],
            "source": "df[\"Coordinates\"][0]"
        },
        {
            "cell_type": "code",
            "execution_count": 18,
            "id": "075bb558",
            "metadata": {},
            "outputs": [
                {
                    "data": {
                        "text/plain": "37.75648887755102"
                    },
                    "execution_count": 18,
                    "metadata": {},
                    "output_type": "execute_result"
                }
            ],
            "source": "df[\"Coordinates\"][0].latitude"
        },
        {
            "cell_type": "code",
            "execution_count": 19,
            "id": "c5395c8c",
            "metadata": {},
            "outputs": [],
            "source": "df[\"Latitude\"]=df[\"Coordinates\"].apply(lambda x: x.latitude if x != None else None)"
        },
        {
            "cell_type": "code",
            "execution_count": 20,
            "id": "4818da85",
            "metadata": {},
            "outputs": [],
            "source": "df[\"Longitude\"]=df[\"Coordinates\"].apply(lambda x: x.longitude if x != None else None)"
        },
        {
            "cell_type": "code",
            "execution_count": 21,
            "id": "f1b0cdbd",
            "metadata": {},
            "outputs": [
                {
                    "data": {
                        "text/html": "<div>\n<style scoped>\n    .dataframe tbody tr th:only-of-type {\n        vertical-align: middle;\n    }\n\n    .dataframe tbody tr th {\n        vertical-align: top;\n    }\n\n    .dataframe thead th {\n        text-align: right;\n    }\n</style>\n<table border=\"1\" class=\"dataframe\">\n  <thead>\n    <tr style=\"text-align: right;\">\n      <th></th>\n      <th>ID</th>\n      <th>Address</th>\n      <th>City</th>\n      <th>State</th>\n      <th>Country</th>\n      <th>Name</th>\n      <th>Employees</th>\n      <th>Coordinates</th>\n      <th>Latitude</th>\n      <th>Longitude</th>\n    </tr>\n  </thead>\n  <tbody>\n    <tr>\n      <th>0</th>\n      <td>1</td>\n      <td>3666 21st St, San Francisco, CA 94114, USA</td>\n      <td>San Francisco</td>\n      <td>CA 94114</td>\n      <td>USA</td>\n      <td>Madeira</td>\n      <td>8</td>\n      <td>(3666, 21st Street, Noe Valley, San Francisco,...</td>\n      <td>37.756489</td>\n      <td>-122.429343</td>\n    </tr>\n    <tr>\n      <th>1</th>\n      <td>2</td>\n      <td>735 Dolores St, San Francisco, CA 94119, USA</td>\n      <td>San Francisco</td>\n      <td>CA 94119</td>\n      <td>USA</td>\n      <td>Bready Shop</td>\n      <td>15</td>\n      <td>(735, Dolores Street, Liberty Street Historic ...</td>\n      <td>37.757726</td>\n      <td>-122.425529</td>\n    </tr>\n    <tr>\n      <th>2</th>\n      <td>3</td>\n      <td>332 Hill St, San Francisco, California 94114, USA</td>\n      <td>San Francisco</td>\n      <td>California 94114</td>\n      <td>USA</td>\n      <td>Super River</td>\n      <td>25</td>\n      <td>(332, Hill Street, Noe Valley, San Francisco, ...</td>\n      <td>37.755725</td>\n      <td>-122.428601</td>\n    </tr>\n    <tr>\n      <th>3</th>\n      <td>4</td>\n      <td>3995 23rd St, San Francisco, CA 94114, USA</td>\n      <td>San Francisco</td>\n      <td>CA 94114</td>\n      <td>USA</td>\n      <td>Ben's Shop</td>\n      <td>10</td>\n      <td>(3995, 23rd Street, Noe Valley, San Francisco,...</td>\n      <td>37.752965</td>\n      <td>-122.431714</td>\n    </tr>\n    <tr>\n      <th>4</th>\n      <td>5</td>\n      <td>1056 Sanchez St, San Francisco, California, USA</td>\n      <td>San Francisco</td>\n      <td>California</td>\n      <td>USA</td>\n      <td>Sanchez</td>\n      <td>12</td>\n      <td>(1056, Sanchez Street, Noe Valley, San Francis...</td>\n      <td>37.752146</td>\n      <td>-122.429815</td>\n    </tr>\n    <tr>\n      <th>5</th>\n      <td>6</td>\n      <td>551 Alvarado St, San Francisco, CA 94114, USA</td>\n      <td>San Francisco</td>\n      <td>CA 94114</td>\n      <td>USA</td>\n      <td>Richvalley</td>\n      <td>20</td>\n      <td>(551, Alvarado Street, Noe Valley, San Francis...</td>\n      <td>37.753673</td>\n      <td>-122.433220</td>\n    </tr>\n  </tbody>\n</table>\n</div>",
                        "text/plain": "   ID                                            Address           City  \\\n0   1         3666 21st St, San Francisco, CA 94114, USA  San Francisco   \n1   2       735 Dolores St, San Francisco, CA 94119, USA  San Francisco   \n2   3  332 Hill St, San Francisco, California 94114, USA  San Francisco   \n3   4         3995 23rd St, San Francisco, CA 94114, USA  San Francisco   \n4   5    1056 Sanchez St, San Francisco, California, USA  San Francisco   \n5   6      551 Alvarado St, San Francisco, CA 94114, USA  San Francisco   \n\n              State Country         Name  Employees  \\\n0          CA 94114     USA      Madeira          8   \n1          CA 94119     USA  Bready Shop         15   \n2  California 94114     USA  Super River         25   \n3          CA 94114     USA   Ben's Shop         10   \n4        California     USA      Sanchez         12   \n5          CA 94114     USA   Richvalley         20   \n\n                                         Coordinates   Latitude   Longitude  \n0  (3666, 21st Street, Noe Valley, San Francisco,...  37.756489 -122.429343  \n1  (735, Dolores Street, Liberty Street Historic ...  37.757726 -122.425529  \n2  (332, Hill Street, Noe Valley, San Francisco, ...  37.755725 -122.428601  \n3  (3995, 23rd Street, Noe Valley, San Francisco,...  37.752965 -122.431714  \n4  (1056, Sanchez Street, Noe Valley, San Francis...  37.752146 -122.429815  \n5  (551, Alvarado Street, Noe Valley, San Francis...  37.753673 -122.433220  "
                    },
                    "execution_count": 21,
                    "metadata": {},
                    "output_type": "execute_result"
                }
            ],
            "source": "df"
        },
        {
            "cell_type": "code",
            "execution_count": null,
            "id": "92fa97e8",
            "metadata": {},
            "outputs": [],
            "source": ""
        }
    ],
    "metadata": {
        "kernelspec": {
            "display_name": "Python 3.9",
            "language": "python",
            "name": "python3"
        },
        "language_info": {
            "codemirror_mode": {
                "name": "ipython",
                "version": 3
            },
            "file_extension": ".py",
            "mimetype": "text/x-python",
            "name": "python",
            "nbconvert_exporter": "python",
            "pygments_lexer": "ipython3",
            "version": "3.9.7"
        }
    },
    "nbformat": 4,
    "nbformat_minor": 5
}